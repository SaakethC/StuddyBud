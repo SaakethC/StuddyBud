{
  "nbformat": 4,
  "nbformat_minor": 0,
  "metadata": {
    "colab": {
      "name": "HQ Trivia Answerer",
      "provenance": [],
      "collapsed_sections": []
    },
    "kernelspec": {
      "name": "python3",
      "display_name": "Python 3"
    }
  },
  "cells": [
    {
      "cell_type": "code",
      "metadata": {
        "id": "XNB92r9GuHVU"
      },
      "source": [
        "from PIL import Image\n",
        "from io import BytesIO\n",
        "import pytesseract\n",
        "\n",
        "im = Image.open(f)\n",
        "prequestion = pytesseract.image_to_string(im, lang = 'eng')\n",
        "question = prequestion.replace(\"ﬁ\", \"fi\")"
      ],
      "execution_count": null,
      "outputs": []
    },
    {
      "cell_type": "code",
      "metadata": {
        "id": "Pg1Gwrlu7FlC"
      },
      "source": [
        "!pip list"
      ],
      "execution_count": null,
      "outputs": []
    },
    {
      "cell_type": "code",
      "metadata": {
        "id": "9GPNXXc_Q_29"
      },
      "source": [
        "from io import BytesIO\n",
        "f = io.BytesIO(b\"uploaded\")\n",
        "print(f)\n",
        "f.read()"
      ],
      "execution_count": null,
      "outputs": []
    },
    {
      "cell_type": "code",
      "metadata": {
        "id": "yoyFLsCIu2pL"
      },
      "source": [
        "from PIL import Image\n",
        "\n",
        "import pytesseract\n",
        "\n",
        "im = Image.open('Answer1.png')\n",
        "\n",
        "answer1 = pytesseract.image_to_string(im, lang = 'eng')"
      ],
      "execution_count": null,
      "outputs": []
    },
    {
      "cell_type": "code",
      "metadata": {
        "id": "eafy5e4pu257"
      },
      "source": [
        "from PIL import Image\n",
        "\n",
        "import pytesseract\n",
        "\n",
        "im = Image.open('Answer2.png')\n",
        "\n",
        "answer2 = pytesseract.image_to_string(im, lang = 'eng')"
      ],
      "execution_count": null,
      "outputs": []
    },
    {
      "cell_type": "code",
      "metadata": {
        "id": "jbecouEmwc31"
      },
      "source": [
        "from PIL import Image\n",
        "\n",
        "import pytesseract\n",
        "\n",
        "im = Image.open('Answer3.png')\n",
        "\n",
        "answer3 = pytesseract.image_to_string(im, lang = 'eng')"
      ],
      "execution_count": null,
      "outputs": []
    },
    {
      "cell_type": "code",
      "metadata": {
        "id": "bNWAYRVYIuA9"
      },
      "source": [
        "import urllib.request\n",
        "from bs4 import BeautifulSoup\n",
        "\n",
        "\n",
        "def read_google_search_v2(options, question):\n",
        "    results = {}\n",
        "    omit = ['or','in','the','he','she','it','that','they','of','is','and','on','by','as','was','not','which','?','who','what','when',',','.','!']\n",
        "    question = ' '.join(map(str,list(filter(lambda x: x not in omit, question.lower().split()))))\n",
        "    print (question)\n",
        "    html = \"http://google.com/search?q=\"+'+'.join(map(str,(question).split()))\n",
        "    print (html)\n",
        "    headers = {'User-Agent':'Mozilla/5.0 (Windows NT 6.1; WOW64; rv:23.0) Gecko/20100101 Firefox/23.0'}  \n",
        "    req = urllib.request.Request(html, headers = headers)\n",
        "    page = urllib.request.urlopen(req)\n",
        "    html = ''.join(map(str,list(filter(lambda x: x not in omit, BeautifulSoup(page, 'html.parser').find('div',id='rcnt').get_text().lower()))))\n",
        "    for _option in options:\n",
        "        _option = _option.lower()\n",
        "        for option in _option.split():\n",
        "            results[_option] = html.count(option)\n",
        "            \n",
        "    \"\"\"for option in options:\n",
        "        html = \"http://google.com/search?q=\"+'+'.join(map(str,(option).split()+(question).split()))\n",
        "        print (html)\n",
        "        headers = {'User-Agent':'Mozilla/5.0 (Windows NT 6.1; WOW64; rv:23.0) Gecko/20100101 Firefox/23.0'}  \n",
        "        req = urllib.request.Request(html, headers = headers)\n",
        "        page = urllib.request.urlopen(req)\n",
        "        html = ''.join(map(str,list(filter(lambda x: x not in omit, BeautifulSoup(page, 'html.parser').find('div',id='rcnt').get_text().lower()))))\n",
        "        for word in question.split():\n",
        "            results[option.lower()] += html.count(word)\n",
        "        \"\"\"\n",
        "    return results"
      ],
      "execution_count": null,
      "outputs": []
    },
    {
      "cell_type": "code",
      "metadata": {
        "id": "HmFeDkFot_UI"
      },
      "source": [
        "def google_search_v3(options, question):\n",
        "  results = {}\n",
        "\n",
        "  for option in options:\n",
        "    results[option.lower()] = 0\n",
        "\n",
        "  omit = ['or','in','the','he','she','it','that','they','of','is','and','on','by','as','was','not','which','?','who','what','when',',','.','!']\n",
        "  question = ' '.join(map(str,list(filter(lambda x: x not in omit, question.lower().split()))))\n",
        "  print (question)\n",
        "  html = \"http://google.com/search?q=\"+'+'.join(map(str,(question).split()))\n",
        "  print (html)\n",
        "  headers = {'User-Agent':'Mozilla/5.0 (Windows NT 6.1; WOW64; rv:23.0) Gecko/20100101 Firefox/23.0'}  \n",
        "  req = urllib.request.Request(html, headers = headers)\n",
        "  page = urllib.request.urlopen(req)\n",
        "  html = ''.join(map(str,list(filter(lambda x: x not in omit, BeautifulSoup(page, 'html.parser').find('div',id='rcnt').get_text().lower()))))[50:-200]\n",
        "  html = html.split()\n",
        "  for _option in options:\n",
        "    _option = _option.lower()\n",
        "    for option in _option.split():\n",
        "      i = len(html)\n",
        "      for word in html:\n",
        "        i -= 1\n",
        "        if word == option:\n",
        "          results[_option] += 0.000001*((i)**3)\n",
        "  return results"
      ],
      "execution_count": null,
      "outputs": []
    },
    {
      "cell_type": "code",
      "metadata": {
        "id": "TFrRnnmjKw4d"
      },
      "source": [
        "import urllib.request\n",
        "from bs4 import BeautifulSoup\n",
        "\n",
        "def google_search_fast_top(options, question):\n",
        "  results = {}\n",
        "\n",
        "  for option in options:\n",
        "    results[option.lower()] = 0\n",
        "\n",
        "  omit = ['or','in','the','he','she','it','that','they','of','is','and','on','by','as','was','not','which','?','who','what','when',',','.','!']\n",
        "  question = question.lower()\n",
        "  print (question)\n",
        "  html = \"http://google.com/search?q=\"+'+'.join(map(str,(question).split()))\n",
        "  print (html)\n",
        "  headers = {'User-Agent':'Mozilla/5.0 (Windows NT 6.1; WOW64; rv:23.0) Gecko/20100101 Firefox/23.0'}  \n",
        "  req = urllib.request.Request(html, headers = headers)\n",
        "  page = urllib.request.urlopen(req)\n",
        "  html = ''.join(map(str,list(filter(lambda x: x not in omit, BeautifulSoup(page, 'html.parser').find('div',id='rcnt').get_text().lower()))))[50:-200]\n",
        "  html = html.split()\n",
        "  for _option in options:\n",
        "    _option = _option.lower()\n",
        "    for option in _option.split():\n",
        "      i = len(html)\n",
        "      for word in html:\n",
        "        i -= 1\n",
        "        if word == option:\n",
        "          results[_option] += 1\n",
        "  return results"
      ],
      "execution_count": null,
      "outputs": []
    },
    {
      "cell_type": "code",
      "metadata": {
        "id": "nNsucZqtPWBl"
      },
      "source": [
        "import urllib.request\n",
        "from bs4 import BeautifulSoup\n",
        "\n",
        "def google_search_fast(options, question):\n",
        "  results = {}\n",
        "\n",
        "  for option in options:\n",
        "    results[option.lower()] = 0\n",
        "\n",
        "  omit = ['or','in','the','he','she','it','that','they','of','is','and','on','by','as','was','not','which','?','who','what','when',',','.','!']\n",
        "  question = question.lower()\n",
        "  print (question)\n",
        "  html = \"http://google.com/search?q=\"+'+'.join(map(str,(question).split()))\n",
        "  print (html)\n",
        "  headers = {'User-Agent':'Mozilla/5.0 (Windows NT 6.1; WOW64; rv:23.0) Gecko/20100101 Firefox/23.0'}  \n",
        "  req = urllib.request.Request(html, headers = headers)\n",
        "  page = urllib.request.urlopen(req)\n",
        "  html = ''.join(map(str,list(filter(lambda x: x not in omit, BeautifulSoup(page, 'html.parser').find('div',id='rcnt').get_text().lower()))))[50:-200]\n",
        "  html = html.split()\n",
        "  for _option in options:\n",
        "    _option = _option.lower()\n",
        "    for option in _option.split():\n",
        "      i = len(html)\n",
        "      for word in html:\n",
        "        i -= 1\n",
        "        if word == option:\n",
        "          results[_option] += 1\n",
        "  return results"
      ],
      "execution_count": null,
      "outputs": []
    },
    {
      "cell_type": "code",
      "metadata": {
        "id": "oFD1p38Cj1M9",
        "colab": {
          "base_uri": "https://localhost:8080/",
          "height": 68
        },
        "outputId": "95a94469-55ef-4b25-a54a-292909c4a9ae"
      },
      "source": [
        "google_search_fast(['columbia university','harvard university','new york times'],'Which institutions members have won the most Pulitzer Prizes since the award began')"
      ],
      "execution_count": null,
      "outputs": [
        {
          "output_type": "stream",
          "text": [
            "which institutions members have won the most pulitzer prizes since the award began\n",
            "http://google.com/search?q=which+institutions+members+have+won+the+most+pulitzer+prizes+since+the+award+began\n"
          ],
          "name": "stdout"
        },
        {
          "output_type": "execute_result",
          "data": {
            "text/plain": [
              "{'columbia university': 6, 'harvard university': 7, 'new york times': 10}"
            ]
          },
          "metadata": {
            "tags": []
          },
          "execution_count": 23
        }
      ]
    },
    {
      "cell_type": "code",
      "metadata": {
        "id": "XDMBoJYhdQQZ"
      },
      "source": [
        "!pip install wikipedia"
      ],
      "execution_count": null,
      "outputs": []
    },
    {
      "cell_type": "code",
      "metadata": {
        "id": "AbnnmViGdI6Q"
      },
      "source": [
        "import wikipedia\n",
        "def wikipedia_google_search(options, question):\n",
        "  results = {}\n",
        "  \n",
        "  for option in options:\n",
        "    results[option.lower()] = 0\n",
        "  \n",
        "  omit = ['or','in','the','he','she','it','that','they','of','is','and','on','by','as','was','not','which','?','who','what','when',',','.','!']\n",
        "  question = ' '.join(map(str,list(filter(lambda x: x not in omit, question.lower().split()))))\n",
        "  print (question)\n",
        "  html = \"http://google.com/search?q=\"+'+'.join(map(str,(question).split()))\n",
        "  print (html)\n",
        "  headers = {'User-Agent':'Mozilla/5.0 (Windows NT 6.1; WOW64; rv:23.0) Gecko/20100101 Firefox/23.0'}  \n",
        "  req = urllib.request.Request(html, headers = headers)\n",
        "  page = urllib.request.urlopen(req)\n",
        "  html = ''.join(map(str,list(filter(lambda x: x not in omit, BeautifulSoup(page, 'html.parser').find('div',id='rcnt').get_text().lower()))))[50:-200]\n",
        "  html = html.split()\n",
        "  for _option in options:\n",
        "    _option = _option.lower()\n",
        "    for option in _option.split():\n",
        "      i = len(html)\n",
        "      for word in html:\n",
        "        i -= 1\n",
        "        if word == option:\n",
        "          results[_option] += 0.000001*((i)**3)\n",
        "  print (results)\n",
        "  for option in options:\n",
        "    try:\n",
        "      page = wikipedia.page(option).content\n",
        "      print ('Opened page',option,'on wikipedia')\n",
        "      page = list(filter(lambda x: x not in omit, page.lower().split()))\n",
        "      for word in page:\n",
        "        if word in question.split():\n",
        "          results[option.lower()] += 1\n",
        "    except:\n",
        "      continue\n",
        "  \n",
        "  return results"
      ],
      "execution_count": null,
      "outputs": []
    },
    {
      "cell_type": "code",
      "metadata": {
        "id": "ueuC_3e7CHXb"
      },
      "source": [
        "import urllib.request\n",
        "from bs4 import BeautifulSoup\n",
        "\n",
        "def wikipedia_google_search_fast(options, question):\n",
        "  results = {}\n",
        "  \n",
        "  for option in options:\n",
        "    results[option.lower()] = 0\n",
        "  \n",
        "  omit = ['or','in','the','he','she','it','that','they','of','is','and','on','by','as','was','not','which','?','who','what','when',',','.','!']\n",
        "  question = question.lower()\n",
        "  print (question)\n",
        "  html = \"http://google.com/search?q=\"+'+'.join(map(str,(question).split()))\n",
        "  print (html)\n",
        "  headers = {'User-Agent':'Mozilla/5.0 (Windows NT 6.1; WOW64; rv:23.0) Gecko/20100101 Firefox/23.0'}  \n",
        "  req = urllib.request.Request(html, headers = headers)\n",
        "  page = urllib.request.urlopen(req)\n",
        "  html = ''.join(map(str,list(filter(lambda x: x not in omit, BeautifulSoup(page, 'html.parser').find('div',id='rcnt').get_text().lower()))))[50:-200]\n",
        "  html = html.split()\n",
        "  for _option in options:\n",
        "    _option = _option.lower()\n",
        "    for option in _option.split():\n",
        "      i = len(html)\n",
        "      for word in html:\n",
        "        i -= 1\n",
        "        if word == option:\n",
        "          results[_option] += 1\n",
        "  print (results)\n",
        "  for option in options:\n",
        "    try:\n",
        "      page = wikipedia.page(option).content\n",
        "      print ('Opened page',option,'on wikipedia')\n",
        "      page = list(filter(lambda x: x not in omit, page.lower().split()))\n",
        "      for word in page:\n",
        "        if word in question.split():\n",
        "          results[option.lower()] += 1\n",
        "    except:\n",
        "      continue\n",
        "  \n",
        "  return results"
      ],
      "execution_count": null,
      "outputs": []
    },
    {
      "cell_type": "code",
      "metadata": {
        "id": "2Pk-nPB_kg2s",
        "colab": {
          "base_uri": "https://localhost:8080/",
          "height": 136
        },
        "outputId": "2c810cb7-736b-4212-8ab3-73ecee8c2a61"
      },
      "source": [
        "wikipedia_google_search_fast(['columbia university','harvard university','new york times'],'Which institutions members have won the most Pulitzer Prizes since the award began')"
      ],
      "execution_count": null,
      "outputs": [
        {
          "output_type": "stream",
          "text": [
            "which institutions members have won the most pulitzer prizes since the award began\n",
            "http://google.com/search?q=which+institutions+members+have+won+the+most+pulitzer+prizes+since+the+award+began\n",
            "{'columbia university': 6, 'harvard university': 7, 'new york times': 10}\n",
            "Opened page columbia university on wikipedia\n",
            "Opened page harvard university on wikipedia\n",
            "Opened page new york times on wikipedia\n"
          ],
          "name": "stdout"
        },
        {
          "output_type": "execute_result",
          "data": {
            "text/plain": [
              "{'columbia university': 6, 'harvard university': 7, 'new york times': 10}"
            ]
          },
          "metadata": {
            "tags": []
          },
          "execution_count": 30
        }
      ]
    },
    {
      "cell_type": "code",
      "metadata": {
        "id": "V3rS6o4hwhhy",
        "colab": {
          "resources": {
            "http://localhost:8080/nbextensions/google.colab/files.js": {
              "data": "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",
              "ok": true,
              "headers": [
                [
                  "content-type",
                  "application/javascript"
                ]
              ],
              "status": 200,
              "status_text": ""
            }
          },
          "base_uri": "https://localhost:8080/",
          "height": 233
        },
        "outputId": "101fa693-8af8-413f-98a2-12514cab0162"
      },
      "source": [
        "from google.colab import files\n",
        "\n",
        "uploaded.jpg = files.upload()"
      ],
      "execution_count": null,
      "outputs": [
        {
          "output_type": "display_data",
          "data": {
            "text/html": [
              "\n",
              "     <input type=\"file\" id=\"files-b5fee651-7ab7-4ab5-bd8e-1d1f42bf8149\" name=\"files[]\" multiple disabled />\n",
              "     <output id=\"result-b5fee651-7ab7-4ab5-bd8e-1d1f42bf8149\">\n",
              "      Upload widget is only available when the cell has been executed in the\n",
              "      current browser session. Please rerun this cell to enable.\n",
              "      </output>\n",
              "      <script src=\"/nbextensions/google.colab/files.js\"</script> "
            ],
            "text/plain": [
              "<IPython.core.display.HTML object>"
            ]
          },
          "metadata": {
            "tags": []
          }
        },
        {
          "output_type": "error",
          "ename": "AttributeError",
          "evalue": "ignored",
          "traceback": [
            "\u001b[0;31m---------------------------------------------------------------------------\u001b[0m",
            "\u001b[0;31mAttributeError\u001b[0m                            Traceback (most recent call last)",
            "\u001b[0;32m<ipython-input-150-4ac4d64bbf61>\u001b[0m in \u001b[0;36m<module>\u001b[0;34m()\u001b[0m\n\u001b[1;32m      1\u001b[0m \u001b[0;32mfrom\u001b[0m \u001b[0mgoogle\u001b[0m\u001b[0;34m.\u001b[0m\u001b[0mcolab\u001b[0m \u001b[0;32mimport\u001b[0m \u001b[0mfiles\u001b[0m\u001b[0;34m\u001b[0m\u001b[0m\n\u001b[1;32m      2\u001b[0m \u001b[0;34m\u001b[0m\u001b[0m\n\u001b[0;32m----> 3\u001b[0;31m \u001b[0muploaded\u001b[0m\u001b[0;34m.\u001b[0m\u001b[0mjpg\u001b[0m \u001b[0;34m=\u001b[0m \u001b[0mfiles\u001b[0m\u001b[0;34m.\u001b[0m\u001b[0mupload\u001b[0m\u001b[0;34m(\u001b[0m\u001b[0;34m)\u001b[0m\u001b[0;34m\u001b[0m\u001b[0m\n\u001b[0m",
            "\u001b[0;31mAttributeError\u001b[0m: 'dict' object has no attribute 'jpg'"
          ]
        }
      ]
    },
    {
      "cell_type": "code",
      "metadata": {
        "id": "-q8FuyIwxudC",
        "colab": {
          "base_uri": "https://localhost:8080/",
          "height": 164
        },
        "outputId": "06662430-8659-4acd-bab3-012f0572eae0"
      },
      "source": [
        "question1 = uploaded['Screen Shot 2018-02-11 at 3.30.13 PM.png']"
      ],
      "execution_count": null,
      "outputs": [
        {
          "output_type": "error",
          "ename": "NameError",
          "evalue": "ignored",
          "traceback": [
            "\u001b[0;31m---------------------------------------------------------------------------\u001b[0m",
            "\u001b[0;31mNameError\u001b[0m                                 Traceback (most recent call last)",
            "\u001b[0;32m<ipython-input-43-89ddc5c0f392>\u001b[0m in \u001b[0;36m<module>\u001b[0;34m()\u001b[0m\n\u001b[0;32m----> 1\u001b[0;31m \u001b[0mquestion1\u001b[0m \u001b[0;34m=\u001b[0m \u001b[0muploaded\u001b[0m\u001b[0;34m[\u001b[0m\u001b[0;34m'Screen Shot 2018-02-11 at 3.30.13 PM.png'\u001b[0m\u001b[0;34m]\u001b[0m\u001b[0;34m\u001b[0m\u001b[0m\n\u001b[0m",
            "\u001b[0;31mNameError\u001b[0m: name 'uploaded' is not defined"
          ]
        }
      ]
    },
    {
      "cell_type": "code",
      "metadata": {
        "id": "D01MhjWhMC8N",
        "colab": {
          "resources": {
            "http://localhost:8080/nbextensions/google.colab/files.js": {
              "data": "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",
              "ok": true,
              "headers": [
                [
                  "content-type",
                  "application/javascript"
                ]
              ],
              "status": 200,
              "status_text": ""
            }
          },
          "base_uri": "https://localhost:8080/",
          "height": 38
        },
        "outputId": "1a5a4e38-ad1e-45b3-8386-5134bbe103f9"
      },
      "source": [
        "from google.colab import files\n",
        "\n",
        "uploaded = files.upload()"
      ],
      "execution_count": null,
      "outputs": [
        {
          "output_type": "display_data",
          "data": {
            "text/html": [
              "\n",
              "     <input type=\"file\" id=\"files-9267fc08-f095-41b4-9a13-a36d583fd070\" name=\"files[]\" multiple disabled />\n",
              "     <output id=\"result-9267fc08-f095-41b4-9a13-a36d583fd070\">\n",
              "      Upload widget is only available when the cell has been executed in the\n",
              "      current browser session. Please rerun this cell to enable.\n",
              "      </output>\n",
              "      <script src=\"/nbextensions/google.colab/files.js\"</script> "
            ],
            "text/plain": [
              "<IPython.core.display.HTML object>"
            ]
          },
          "metadata": {
            "tags": []
          }
        }
      ]
    },
    {
      "cell_type": "code",
      "metadata": {
        "id": "DjdtRSwKFwml",
        "colab": {
          "base_uri": "https://localhost:8080/",
          "height": 34
        },
        "outputId": "15ec6ba6-0157-425f-d98c-458e10cfddc9"
      },
      "source": [
        "string1 = testing.replace(\"ﬁ\", \"fi\")\n",
        "print(string1)"
      ],
      "execution_count": null,
      "outputs": [
        {
          "output_type": "stream",
          "text": [
            "Who won the WWE fight\n"
          ],
          "name": "stdout"
        }
      ]
    },
    {
      "cell_type": "code",
      "metadata": {
        "id": "7Kk3ZxPyc-g0"
      },
      "source": [
        "import urllib\n",
        "from bs4 import BeautifulSoup\n",
        "from PIL import Image\n",
        "import pytesseract\n",
        "import os\n",
        "os.system('/Users/raajp/Desktop/autocap.sh')\n",
        "\n",
        "im = Image.open('/Users/raajp/Desktop/Question1.png')\n",
        "prequestion = pytesseract.image_to_string(im, lang = 'eng')\n",
        "im = Image.open('/Users/raajp/Desktop/Answer1.png')\n",
        "answer1 = pytesseract.image_to_string(im, lang = 'eng')\n",
        "im = Image.open('/Users/raajp/Desktop/Answer2.png')\n",
        "answer2 = pytesseract.image_to_string(im, lang = 'eng')\n",
        "im = Image.open('/Users/raajp/Desktop/Answer3.png')\n",
        "answer3 = pytesseract.image_to_string(im, lang = 'eng')\n",
        "\n",
        "Question1 = prequestion.replace(\"ﬁ\", \"fi\")\n",
        "\n",
        "print(Question1)\n",
        "print(answer1)\n",
        "print(answer2)\n",
        "print(answer3)\n",
        "\n",
        "def read_google_search_v2(options, question):\n",
        "    results = {}\n",
        "    omit = ['or', 'in', 'the', 'he', 'she', 'it', 'that', 'they', 'of', 'is', 'and', 'on', 'by', 'as', 'was', 'not',\n",
        "            'which', '?', 'who', 'what', 'when', ',', '.', '!']\n",
        "    question = ' '.join(map(str, list(filter(lambda x: x not in omit, question.lower().split()))))\n",
        "    print(question)\n",
        "    html = \"http://google.com/search?q=\" + '+'.join(map(str, (question).split()))\n",
        "    print(html)\n",
        "    headers = {'User-Agent': 'Mozilla/5.0 (Windows NT 6.1; WOW64; rv:23.0) Gecko/20100101 Firefox/23.0'}\n",
        "    req = urllib.request.Request(html, headers=headers)\n",
        "    page = urllib.request.urlopen(req)\n",
        "    html = ''.join(map(str, list(\n",
        "        filter(lambda x: x not in omit, BeautifulSoup(page, 'html.parser').find('div', id='rcnt').get_text().lower()))))\n",
        "    for _option in options:\n",
        "        _option = _option.lower()\n",
        "        for option in _option.split():\n",
        "            results[_option] = html.count(option)\n",
        "\n",
        "    for option in options:\n",
        "        html = \"http://google.com/search?q=\" + '+'.join(map(str, (option).split() + (question).split()))\n",
        "        print(html)\n",
        "        headers = {'User-Agent': 'Mozilla/5.0 (Windows NT 6.1; WOW64; rv:23.0) Gecko/20100101 Firefox/23.0'}\n",
        "        req = urllib.request.Request(html, headers=headers)\n",
        "        page = urllib.request.urlopen(req)\n",
        "        html = ''.join(map(str, list(filter(lambda x: x not in omit, BeautifulSoup(page, 'html.parser').find('div',\n",
        "                                                                                                             id='rcnt').get_text().lower()))))\n",
        "        for word in question.split():\n",
        "            results[option.lower()] += html.count(word)\n",
        "        print(results)\n",
        "    return results\n",
        "\n",
        "\n",
        "read_google_search_v2([answer1,answer2,answer3], Question1)\n"
      ],
      "execution_count": null,
      "outputs": []
    },
    {
      "cell_type": "markdown",
      "metadata": {
        "id": "X-Z_zSvGXvQu"
      },
      "source": [
        "### Multiprocessing Wikipedia-Google Search"
      ]
    },
    {
      "cell_type": "code",
      "metadata": {
        "id": "wsK3UfoAsAEd"
      },
      "source": [
        "# You need this stuff for the cell below!\n",
        "import urllib\n",
        "from bs4 import BeautifulSoup\n",
        "import wikipedia\n",
        "import multiprocessing as mp\n",
        "import time"
      ],
      "execution_count": null,
      "outputs": []
    },
    {
      "cell_type": "code",
      "metadata": {
        "id": "-ylQZzMZXJ6M"
      },
      "source": [
        "# Make sure you get all the funtions in this cell!!!!\n",
        "\n",
        "#Al\n",
        "def google_search_option(_option, html):\n",
        "  counts = 0\n",
        "  for option in _option.split():\n",
        "      i = len(html)\n",
        "      for word in html:\n",
        "        i -= 1\n",
        "        if word == option:\n",
        "          counts += 1\n",
        "  return (_option,counts)\n",
        "  \n",
        "\n",
        "def wikipedia_search_option(option, question, omit):\n",
        "  out = 0\n",
        "  try:\n",
        "    page = wikipedia.page(option).content\n",
        "    print ('Opened page',option,'on wikipedia')\n",
        "    page = list(filter(lambda x: x not in omit, page.lower().split()))\n",
        "    for word in page:\n",
        "      if word in question.split():\n",
        "        out += 1\n",
        "  except:\n",
        "    print (option,'page does not exist')\n",
        "    return (option,0)\n",
        "  return (option.lower(),out)\n",
        "  \n",
        "\n",
        "def wikipedia_google_search_mp(options, question):\n",
        "  results = {}\n",
        "  time_start = time.time()\n",
        "  for option in options:\n",
        "    results[option.lower()] = 0\n",
        "  \n",
        "  omit = ['or','in','the','he','she','it','that','they','of','is','and','on','by','as','was','not','which','?','who','what','when',',','.','!']\n",
        "  question = question.lower()\n",
        "  print (question)\n",
        "  html = \"http://google.com/search?q=\"+'+'.join(map(str,(question).split()))\n",
        "  print (html)\n",
        "  headers = {'User-Agent':'Mozilla/5.0 (Windows NT 6.1; WOW64; rv:23.0) Gecko/20100101 Firefox/23.0'}  \n",
        "  req = urllib.request.Request(html, headers = headers)\n",
        "  page = urllib.request.urlopen(req)\n",
        "  print ('Opened Page in {:.02f} s'.format(time.time()-time_start))\n",
        "  time_start = time.time()\n",
        "  page = BeautifulSoup(page, 'html5lib')\n",
        "  print ('Souped Page in {:.02f} s'.format(time.time()-time_start))\n",
        "  time_start = time.time()\n",
        "  page = page.find('div',id='rcnt').get_text().lower()\n",
        "  print ('Cropped Page in {:.02f} s'.format(time.time()-time_start))\n",
        "  time_start = time.time()\n",
        "  html = ''.join(map(str,list(filter(lambda x: x not in omit, page))))[50:-200]\n",
        "  print ('Filtered page in {:.02f} s'.format(time.time()-time_start))\n",
        "  time_start = time.time()\n",
        "  html = html.split()\n",
        "  print ('Split page in {:.02f} s'.format(time.time()-time_start))\n",
        "  google_pool = mp.Pool(processes=3)\n",
        "  async_processes = [google_pool.apply_async(google_search_option,args=(option.lower(),html)) for option in options]\n",
        "  wikipedia_pool = mp.Pool(processes=3)\n",
        "  wikipedia_output = [wikipedia_pool.apply(wikipedia_search_option,args=(option,question,omit)) for option in options]\n",
        "  google_output = [process.get() for process in async_processes]\n",
        "  for pair in wikipedia_output:\n",
        "    results[pair[0].lower()] += pair[1]\n",
        "  for pair in google_output:\n",
        "    results[pair[0].lower()] += pair[1]\n",
        "  return results"
      ],
      "execution_count": null,
      "outputs": []
    },
    {
      "cell_type": "code",
      "metadata": {
        "id": "qBIo17T-XtLf"
      },
      "source": [
        "wikipedia_google_search_mp(['London','New York','Tokyo'], 'What is the worlds most connected city')"
      ],
      "execution_count": null,
      "outputs": []
    },
    {
      "cell_type": "code",
      "metadata": {
        "id": "Nm_M6OVTvG8i"
      },
      "source": [
        ""
      ],
      "execution_count": null,
      "outputs": []
    }
  ]
}